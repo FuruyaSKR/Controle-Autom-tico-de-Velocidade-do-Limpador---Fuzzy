{
 "cells": [
  {
   "cell_type": "markdown",
   "metadata": {},
   "source": [
    "# Implementação de Sistemas de Controle Automático de Velocidade do Limpador e Modos de Faróis Usando Lógica Fuzzy"
   ]
  },
  {
   "cell_type": "code",
   "execution_count": 3,
   "metadata": {},
   "outputs": [
    {
     "ename": "ModuleNotFoundError",
     "evalue": "No module named 'skfuzzy'",
     "output_type": "error",
     "traceback": [
      "\u001b[1;31m---------------------------------------------------------------------------\u001b[0m",
      "\u001b[1;31mModuleNotFoundError\u001b[0m                       Traceback (most recent call last)",
      "\u001b[1;32m~\\AppData\\Local\\Temp\\ipykernel_8944\\3934971096.py\u001b[0m in \u001b[0;36m<module>\u001b[1;34m\u001b[0m\n\u001b[1;32m----> 1\u001b[1;33m \u001b[1;32mimport\u001b[0m \u001b[0mskfuzzy\u001b[0m \u001b[1;32mas\u001b[0m \u001b[0mfuzzy\u001b[0m\u001b[1;33m\u001b[0m\u001b[1;33m\u001b[0m\u001b[0m\n\u001b[0m\u001b[0;32m      2\u001b[0m \u001b[1;32mfrom\u001b[0m \u001b[0mskfuzzy\u001b[0m \u001b[1;32mimport\u001b[0m \u001b[0mcontrol\u001b[0m \u001b[1;32mas\u001b[0m \u001b[0mctrl\u001b[0m\u001b[1;33m\u001b[0m\u001b[1;33m\u001b[0m\u001b[0m\n",
      "\u001b[1;31mModuleNotFoundError\u001b[0m: No module named 'skfuzzy'"
     ]
    }
   ],
   "source": [
    "import skfuzzy as fuzzy\n",
    "from skfuzzy import control as ctrl"
   ]
  },
  {
   "cell_type": "markdown",
   "metadata": {},
   "source": [
    "## A) Velocidade Automática do Limpador"
   ]
  },
  {
   "cell_type": "code",
   "execution_count": null,
   "metadata": {},
   "outputs": [],
   "source": [
    "import numpy as np\n",
    "import matplotlib.pyplot as plt\n",
    "\n",
    "volume_rain=ctrl.Antecedent(np.arange(0,101,1),'Volume de Chuva') # até 100mm/h\n",
    "volume_rain['Ruim']=fuzzy.trimf(volume_rain.universe,[0,0,40])\n",
    "volume_rain['Médio']=fuzzy.trapmf(volume_rain.universe,[30,40,70,80])\n",
    "volume_rain['Bom']=fuzzy.trimf(volume_rain.universe,[80,90,100])\n",
    "\n",
    "rain_intensity=ctrl.Antecedent(np.arange(0,101,1),'Intensidade de chuva') # Chuva associada a velocidade do vento (grau relativo de 0 a 100)\n",
    "rain_intensity['Ruim']=fuzzy.trimf(rain_intensity.universe,[0,0,40])\n",
    "rain_intensity['Médio']=fuzzy.trapmf(rain_intensity.universe,[40,50,70,80])\n",
    "rain_intensity['Bom']=fuzzy.trimf(rain_intensity.universe,[70,80,100])\n",
    "\n",
    "volume_rain.view()\n",
    "plt.ylabel('')\n",
    "\n",
    "rain_intensity.view()\n",
    "plt.ylabel('')\n",
    "plt.show()"
   ]
  },
  {
   "cell_type": "code",
   "execution_count": null,
   "metadata": {},
   "outputs": [],
   "source": [
    "wiper_speed=ctrl.Consequent(np.arange(0,11,1),'Velocidade do Limpador')\n",
    "wiper_speed['Ruim']=fuzzy.trimf(wiper_speed.universe,[0,0,4])\n",
    "wiper_speed['Médio']=fuzzy.trapmf(wiper_speed.universe,[3,4,7,8])\n",
    "wiper_speed['Bom']=fuzzy.trimf(wiper_speed.universe,[7,8,10])\n",
    "\n",
    "wiper_speed.view()\n",
    "plt.ylabel('')\n",
    "plt.show()"
   ]
  },
  {
   "cell_type": "code",
   "execution_count": null,
   "metadata": {},
   "outputs": [],
   "source": [
    "rule1 = ctrl.Rule(volume_rain['Ruim'] | rain_intensity['Ruim'], wiper_speed['Ruim'])\n",
    "rule2 = ctrl.Rule(volume_rain['Médio'] | rain_intensity['Médio'], wiper_speed['Médio'])\n",
    "rule3 = ctrl.Rule(volume_rain['Bom'] | rain_intensity['Bom'], wiper_speed['Bom'])\n",
    "\n",
    "rules=[rule1,rule2,rule3]\n",
    "tipping=ctrl.ControlSystem(rules)\n",
    "Tip=ctrl.ControlSystemSimulation(tipping)\n",
    "\n",
    "Tip.input['Volume de Chuva'] = 50\n",
    "Tip.input['Intensidade de chuva'] = 80\n",
    "Tip.compute()\n",
    "\n",
    "print('O valor automatizado da tensão para a velocidade do limpador é', Tip.output['Velocidade do Limpador'])\n",
    "\n",
    "wiper_speed.view(sim=Tip)"
   ]
  },
  {
   "cell_type": "markdown",
   "metadata": {},
   "source": [
    "## B) Modos de Farol"
   ]
  },
  {
   "cell_type": "code",
   "execution_count": null,
   "metadata": {},
   "outputs": [],
   "source": [
    "lightintensity=ctrl.Antecedent(np.arange(0,12001,1), 'Intensidade de Luz')\n",
    "\n",
    "lightintensity['Ruim']=fuzzy.trimf(lightintensity.universe,[0,0,4800])\n",
    "lightintensity['Médio']=fuzzy.trapmf(lightintensity.universe,[3600,4800,8400,9600])\n",
    "lightintensity['Bom']=fuzzy.trimf(lightintensity.universe,[8400,9600,12000])\n",
    "\n",
    "lightintensity.view()"
   ]
  },
  {
   "cell_type": "code",
   "execution_count": null,
   "metadata": {},
   "outputs": [],
   "source": [
    "headlight=ctrl.Antecedent(np.arange(1,25,1),'Tempo em formato de 24 horas')\n",
    "\n",
    "headlight['Ruim']=fuzzy.trimf(headlight.universe,[1,3,6]) # Manhã\n",
    "headlight['Médio']=fuzzy.trapmf(headlight.universe,[5,6,17,18]) # Dia\n",
    "headlight['Bom']=fuzzy.trimf(headlight.universe,[16,20,24]) # Noite\n",
    "\n",
    "headlight.view()"
   ]
  },
  {
   "cell_type": "code",
   "execution_count": null,
   "metadata": {},
   "outputs": [],
   "source": [
    "switch=ctrl.Consequent(np.arange(0,11,1),'Modo do Farol')\n",
    "\n",
    "switch['Ruim']=fuzzy.trimf(switch.universe,[0,0,4])\n",
    "switch['Médio']=fuzzy.trapmf(switch.universe,[3,4,7,8])\n",
    "switch['Bom']=fuzzy.trimf(switch.universe,[7,8,10])\n",
    "\n",
    "switch.view()\n",
    "plt.ylabel('')\n",
    "plt.show()"
   ]
  },
  {
   "cell_type": "code",
   "execution_count": null,
   "metadata": {},
   "outputs": [],
   "source": [
    "from datetime import datetime\n",
    "now = datetime.now()\n",
    "print('A hora (no formato de 24 horas) é', now.hour)"
   ]
  },
  {
   "cell_type": "code",
   "execution_count": null,
   "metadata": {},
   "outputs": [],
   "source": [
    "rule1 = ctrl.Rule(lightintensity['Ruim'] | headlight['Ruim'], switch['Ruim'])\n",
    "rule2 = ctrl.Rule(lightintensity['Médio'] | headlight['Médio'], switch['Médio'])\n",
    "rule3 = ctrl.Rule(lightintensity['Bom'] | headlight['Bom'], switch['Bom'])\n",
    "\n",
    "rules=[rule1,rule2,rule3]\n",
    "tipping=ctrl.ControlSystem(rules)\n",
    "tip=ctrl.ControlSystemSimulation(tipping)\n",
    "\n",
    "tip.input['Intensidade de Luz']= 3000\n",
    "tip.input['Tempo em formato de 24 horas']= 5\n",
    "tip.compute()\n",
    "\n",
    "print('O valor automatizado do modo de comutação é', tip.output['Modo do Farol'])\n",
    "\n",
    "switch.view(sim=tip)"
   ]
  }
 ],
 "metadata": {
  "kernelspec": {
   "display_name": "Python 3.9.6 64-bit",
   "language": "python",
   "name": "python3"
  },
  "language_info": {
   "codemirror_mode": {
    "name": "ipython",
    "version": 3
   },
   "file_extension": ".py",
   "mimetype": "text/x-python",
   "name": "python",
   "nbconvert_exporter": "python",
   "pygments_lexer": "ipython3",
   "version": "3.7.9"
  },
  "orig_nbformat": 4,
  "vscode": {
   "interpreter": {
    "hash": "aee8b7b246df8f9039afb4144a1f6fd8d2ca17a180786b69acc140d282b71a49"
   }
  }
 },
 "nbformat": 4,
 "nbformat_minor": 2
}
